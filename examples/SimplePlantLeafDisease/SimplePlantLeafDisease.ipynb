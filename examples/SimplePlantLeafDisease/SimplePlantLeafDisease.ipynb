{
  "cells": [
    {
      "cell_type": "code",
      "execution_count": 12,
      "metadata": {
        "id": "LweSXQHJlq3c"
      },
      "outputs": [],
      "source": [
        "# This is a simple plant leaf disease classifier inspired from Data from:\n",
        "# Identification of Plant Leaf Diseases Using a 9-layer Deep Convolutional Neural Network\n",
        "# https://data.mendeley.com/datasets/tywbtsjrjv/1\n",
        "# https://www.tensorflow.org/datasets/catalog/plant_village\n",
        "\n",
        "# This source code required the CAI Neural API found at:\n",
        "# https://github.com/joaopauloschuler/neural-api\n",
        "\n",
        "# To be able to run this code, you'll need at least 32GB of RAM.\n",
        "\n",
        "has_plant_leaf_disease = True\n",
        "has_tiny_imagenet_200 = False"
      ]
    },
    {
      "cell_type": "code",
      "execution_count": 13,
      "metadata": {
        "id": "2y_lHtCNlq3h",
        "outputId": "be45b99a-62a8-4843-a2ac-a0a44fda2d96",
        "colab": {
          "base_uri": "https://localhost:8080/"
        }
      },
      "outputs": [
        {
          "output_type": "stream",
          "name": "stdout",
          "text": [
            "Reading package lists... Done\n",
            "Building dependency tree       \n",
            "Reading state information... Done\n",
            "zip is already the newest version (3.0-11build1).\n",
            "fpc is already the newest version (3.0.4+dfsg-23).\n",
            "fpc-source is already the newest version (3.0.4+dfsg-23).\n",
            "lazarus is already the newest version (2.0.6+dfsg-3).\n",
            "git is already the newest version (1:2.25.1-1ubuntu3.11).\n",
            "unzip is already the newest version (6.0-25ubuntu1.1).\n",
            "subversion is already the newest version (1.13.0-3ubuntu0.2).\n",
            "0 upgraded, 0 newly installed, 0 to remove and 13 not upgraded.\n"
          ]
        }
      ],
      "source": [
        "!apt-get install -y fpc fpc-source lazarus git subversion zip unzip"
      ]
    },
    {
      "cell_type": "code",
      "execution_count": 14,
      "metadata": {
        "id": "rnnYbBVClq3j",
        "outputId": "3be591f0-3977-4f60-9307-481b68208d41",
        "colab": {
          "base_uri": "https://localhost:8080/"
        }
      },
      "outputs": [
        {
          "output_type": "stream",
          "name": "stdout",
          "text": [
            "Checked out revision 8879.\n"
          ]
        }
      ],
      "source": [
        "!svn checkout https://svn.code.sf.net/p/lazarus-ccr/svn/components/multithreadprocs mtprocs"
      ]
    },
    {
      "cell_type": "code",
      "execution_count": 15,
      "metadata": {
        "id": "5H6s7WQxlq3j",
        "outputId": "6f49a4e2-0fba-47ae-df78-4af743f3f0a5",
        "colab": {
          "base_uri": "https://localhost:8080/"
        }
      },
      "outputs": [
        {
          "output_type": "stream",
          "name": "stdout",
          "text": [
            "Already up to date.\n",
            "Processing /content/k\n",
            "  Preparing metadata (setup.py) ... \u001b[?25l\u001b[?25hdone\n",
            "Requirement already satisfied: pandas>=0.22.0 in /usr/local/lib/python3.10/dist-packages (from cai==0.1.7) (1.5.3)\n",
            "Requirement already satisfied: scikit-image>=0.15.0 in /usr/local/lib/python3.10/dist-packages (from cai==0.1.7) (0.19.3)\n",
            "Requirement already satisfied: opencv-python>=4.1.2.30 in /usr/local/lib/python3.10/dist-packages (from cai==0.1.7) (4.7.0.72)\n",
            "Requirement already satisfied: scikit-learn>=0.21.0 in /usr/local/lib/python3.10/dist-packages (from cai==0.1.7) (1.2.2)\n",
            "Requirement already satisfied: numpy in /usr/local/lib/python3.10/dist-packages (from cai==0.1.7) (1.22.4)\n",
            "Requirement already satisfied: python-dateutil>=2.8.1 in /usr/local/lib/python3.10/dist-packages (from pandas>=0.22.0->cai==0.1.7) (2.8.2)\n",
            "Requirement already satisfied: pytz>=2020.1 in /usr/local/lib/python3.10/dist-packages (from pandas>=0.22.0->cai==0.1.7) (2022.7.1)\n",
            "Requirement already satisfied: scipy>=1.4.1 in /usr/local/lib/python3.10/dist-packages (from scikit-image>=0.15.0->cai==0.1.7) (1.10.1)\n",
            "Requirement already satisfied: networkx>=2.2 in /usr/local/lib/python3.10/dist-packages (from scikit-image>=0.15.0->cai==0.1.7) (3.1)\n",
            "Requirement already satisfied: pillow!=7.1.0,!=7.1.1,!=8.3.0,>=6.1.0 in /usr/local/lib/python3.10/dist-packages (from scikit-image>=0.15.0->cai==0.1.7) (8.4.0)\n",
            "Requirement already satisfied: imageio>=2.4.1 in /usr/local/lib/python3.10/dist-packages (from scikit-image>=0.15.0->cai==0.1.7) (2.25.1)\n",
            "Requirement already satisfied: tifffile>=2019.7.26 in /usr/local/lib/python3.10/dist-packages (from scikit-image>=0.15.0->cai==0.1.7) (2023.7.4)\n",
            "Requirement already satisfied: PyWavelets>=1.1.1 in /usr/local/lib/python3.10/dist-packages (from scikit-image>=0.15.0->cai==0.1.7) (1.4.1)\n",
            "Requirement already satisfied: packaging>=20.0 in /usr/local/lib/python3.10/dist-packages (from scikit-image>=0.15.0->cai==0.1.7) (23.1)\n",
            "Requirement already satisfied: joblib>=1.1.1 in /usr/local/lib/python3.10/dist-packages (from scikit-learn>=0.21.0->cai==0.1.7) (1.3.1)\n",
            "Requirement already satisfied: threadpoolctl>=2.0.0 in /usr/local/lib/python3.10/dist-packages (from scikit-learn>=0.21.0->cai==0.1.7) (3.1.0)\n",
            "Requirement already satisfied: six>=1.5 in /usr/local/lib/python3.10/dist-packages (from python-dateutil>=2.8.1->pandas>=0.22.0->cai==0.1.7) (1.16.0)\n",
            "Building wheels for collected packages: cai\n",
            "  Building wheel for cai (setup.py) ... \u001b[?25l\u001b[?25hdone\n",
            "  Created wheel for cai: filename=cai-0.1.7-py3-none-any.whl size=61379 sha256=d14cbd88959d2c2ff5a080ba00e2f0a4e66cfda9a46971a10fbc4d2187691fe7\n",
            "  Stored in directory: /tmp/pip-ephem-wheel-cache-4d_zus1u/wheels/80/61/f5/947bedc7e497038def7d1381fb65d37bd126a80e010114b8f1\n",
            "Successfully built cai\n",
            "Installing collected packages: cai\n",
            "  Attempting uninstall: cai\n",
            "    Found existing installation: cai 0.1.7\n",
            "    Uninstalling cai-0.1.7:\n",
            "      Successfully uninstalled cai-0.1.7\n",
            "Successfully installed cai-0.1.7\n"
          ]
        }
      ],
      "source": [
        "import os\n",
        "\n",
        "if not os.path.isdir('k'):\n",
        "  !git clone https://github.com/joaopauloschuler/k-neural-api.git k\n",
        "else:\n",
        "  !cd k && git pull\n",
        "\n",
        "!cd k && pip install ."
      ]
    },
    {
      "cell_type": "code",
      "execution_count": 16,
      "metadata": {
        "id": "pjnqf77blq3k",
        "outputId": "1318cf4f-db6f-4f15-d61f-0cd97fd085a8",
        "colab": {
          "base_uri": "https://localhost:8080/"
        }
      },
      "outputs": [
        {
          "output_type": "stream",
          "name": "stdout",
          "text": [
            "Checked out revision 1773.\n"
          ]
        }
      ],
      "source": [
        "!svn checkout https://svn.code.sf.net/p/cai/svncode/trunk/lazarus neural-api"
      ]
    },
    {
      "cell_type": "code",
      "execution_count": 17,
      "metadata": {
        "id": "hZ-TbJbslq3l",
        "outputId": "8d7389a2-c97c-4fab-9cd5-ef826004f438",
        "colab": {
          "base_uri": "https://localhost:8080/"
        }
      },
      "outputs": [
        {
          "output_type": "stream",
          "name": "stdout",
          "text": [
            "Hint: (lazarus) [RunTool] \"/usr/bin/fpc\" \"-iWTOTP\"\n",
            "Hint: (lazarus) [RunTool] \"/usr/bin/fpc\" \"-va\" \"compilertest.pas\"\n"
          ]
        }
      ],
      "source": [
        "!lazbuild mtprocs/multithreadprocslaz.lpk"
      ]
    },
    {
      "cell_type": "code",
      "execution_count": 18,
      "metadata": {
        "id": "r_8ktGAwlq3m",
        "outputId": "b9baa14c-7ca2-4579-c5ea-f391c5dbf89e",
        "colab": {
          "base_uri": "https://localhost:8080/"
        }
      },
      "outputs": [
        {
          "output_type": "stream",
          "name": "stdout",
          "text": [
            "Hint: (lazarus) [RunTool] \"/usr/bin/fpc\" \"-iWTOTP\"\n",
            "Hint: (lazarus) [RunTool] \"/usr/bin/fpc\" \"-va\" \"compilertest.pas\"\n",
            "Hint: (lazarus) [RunTool] \"/usr/bin/fpc\" \"-iWTOTP\" \"-Px86_64\" \"-Tlinux\"\n",
            "Hint: (lazarus) [RunTool] \"/usr/bin/fpc\" \"-va\" \"compilertest.pas\" \"-Px86_64\" \"-Tlinux\"\n",
            "Info: (lazarus) Execute Title=\"Compile Project, Mode: Default, Target: /content/neural-api/bin/x86_64-linux/bin/SimplePlantLeafDisease\"\n",
            "Info: (lazarus) Working Directory=\"/content/neural-api/examples/SimplePlantLeafDisease/\"\n",
            "Info: (lazarus) Executable=\"/usr/bin/fpc\"\n",
            "Info: (lazarus) Param[0]=\"-MObjFPC\"\n",
            "Info: (lazarus) Param[1]=\"-Scghi\"\n",
            "Info: (lazarus) Param[2]=\"-Cg\"\n",
            "Info: (lazarus) Param[3]=\"-O3\"\n",
            "Info: (lazarus) Param[4]=\"-l\"\n",
            "Info: (lazarus) Param[5]=\"-vewnhibq\"\n",
            "Info: (lazarus) Param[6]=\"-Fi/content/neural-api/neural\"\n",
            "Info: (lazarus) Param[7]=\"-Fi/content/neural-api/bin/x86_64-linux/units\"\n",
            "Info: (lazarus) Param[8]=\"-Fu/content/neural-api/neural\"\n",
            "Info: (lazarus) Param[9]=\"-Fu/usr/lib/lazarus/2.0.6/lcl/units/x86_64-linux\"\n",
            "Info: (lazarus) Param[10]=\"-Fu/usr/lib/lazarus/2.0.6/components/lazutils/lib/x86_64-linux\"\n",
            "Info: (lazarus) Param[11]=\"-Fu/content/mtprocs/lib/x86_64-linux\"\n",
            "Info: (lazarus) Param[12]=\"-Fu/usr/lib/lazarus/2.0.6/packager/units/x86_64-linux\"\n",
            "Info: (lazarus) Param[13]=\"-Fu/content/neural-api/examples/SimplePlantLeafDisease/\"\n",
            "Info: (lazarus) Param[14]=\"-FU/content/neural-api/bin/x86_64-linux/units/\"\n",
            "Info: (lazarus) Param[15]=\"-FE/content/neural-api/bin/x86_64-linux/bin/\"\n",
            "Info: (lazarus) Param[16]=\"-o/content/neural-api/bin/x86_64-linux/bin/SimplePlantLeafDisease\"\n",
            "Info: (lazarus) Param[17]=\"-dUseCThreads\"\n",
            "Info: (lazarus) Param[18]=\"-dAVX\"\n",
            "Info: (lazarus) Param[19]=\"-dRelease\"\n",
            "Info: (lazarus) Param[20]=\"SimplePlantLeafDisease.pas\"\n",
            "Hint: (11030) Start of reading config file /etc/fpc.cfg\n",
            "Compiling Release Version\n",
            "Hint: (11031) End of reading config file /etc/fpc.cfg\n",
            "Free Pascal Compiler version 3.0.4+dfsg-23 [2019/11/25] for x86_64\n",
            "Copyright (c) 1993-2017 by Florian Klaempfl and others\n",
            "(1002) Target OS: Linux for x86-64\n",
            "(3104) Compiling SimplePlantLeafDisease.pas\n",
            "/content/neural-api/examples/SimplePlantLeafDisease/SimplePlantLeafDisease.pas(14,60) Hint: (5023) Unit \"math\" not used in SimplePlantLeafDisease\n",
            "(9015) Linking /content/neural-api/bin/x86_64-linux/bin/SimplePlantLeafDisease\n",
            "/usr/bin/ld.bfd: warning: /content/neural-api/bin/x86_64-linux/bin/link.res contains output sections; did you forget -T?\n",
            "(1008) 95 lines compiled, 1.1 sec\n",
            "(1022) 3 hint(s) issued\n"
          ]
        }
      ],
      "source": [
        "!lazbuild neural-api/examples/SimplePlantLeafDisease/SimplePlantLeafDisease.lpi"
      ]
    },
    {
      "cell_type": "code",
      "execution_count": 19,
      "metadata": {
        "id": "2ws6HVE7lq3o"
      },
      "outputs": [],
      "source": [
        "import cai.layers\n",
        "import cai.datasets\n",
        "import cai.models"
      ]
    },
    {
      "cell_type": "code",
      "execution_count": 20,
      "metadata": {
        "id": "A5CSNeIclq3p"
      },
      "outputs": [],
      "source": [
        "if (has_tiny_imagenet_200):\n",
        "    url_zip_file=\"http://cs231n.stanford.edu/tiny-imagenet-200.zip\"\n",
        "    local_zip_file=\"tiny-imagenet-200.zip\"\n",
        "    expected_folder_name=\"download-tiny-imagenet-200\"\n",
        "    Verbose=True\n",
        "    cai.datasets.download_zip_and_extract(\n",
        "        url_zip_file=url_zip_file, local_zip_file=local_zip_file,\n",
        "        expected_folder_name=expected_folder_name, Verbose=Verbose)\n",
        "    if os.path.isdir('download-tiny-imagenet-200/tiny-imagenet-200'):\n",
        "        !mv download-tiny-imagenet-200/tiny-imagenet-200 tiny-imagenet-200"
      ]
    },
    {
      "cell_type": "code",
      "execution_count": 21,
      "metadata": {
        "id": "xwsAMDJPlq3q"
      },
      "outputs": [],
      "source": [
        "if (has_plant_leaf_disease):\n",
        "    url_zip_file=\"https://data.mendeley.com/datasets/tywbtsjrjv/1/files/d5652a28-c1d8-4b76-97f3-72fb80f94efc/Plant_leaf_diseases_dataset_without_augmentation.zip?dl=1\"\n",
        "    local_zip_file=\"plant_leaf.zip\"\n",
        "    expected_folder_name=\"plant_leaf\"\n",
        "    Verbose=True\n",
        "    cai.datasets.download_zip_and_extract(\n",
        "        url_zip_file=url_zip_file, local_zip_file=local_zip_file,\n",
        "        expected_folder_name=expected_folder_name, Verbose=Verbose)\n",
        "    if os.path.isdir('plant_leaf/Plant_leave_diseases_dataset_without_augmentation'):\n",
        "        !mv plant_leaf/Plant_leave_diseases_dataset_without_augmentation plant"
      ]
    },
    {
      "cell_type": "code",
      "execution_count": null,
      "metadata": {
        "id": "P0Gb4PfFlq3r",
        "outputId": "5f2a2937-cffa-44e8-ca28-6b6d0c6402b4",
        "colab": {
          "base_uri": "https://localhost:8080/"
        }
      },
      "outputs": [
        {
          "output_type": "stream",
          "name": "stdout",
          "text": [
            "RUNNING: SimplePlantLeafDisease\n",
            "Creating Neural Network...\n",
            " Layers: 14\n",
            " Neurons:424\n",
            " Weights:229058 Sum:   -9.365533\n",
            "Layer  0 Neurons:   0 Weights:     0 TNNetInput(96,96,3,0,0) Output:96,96,3 Learning Rate:0.0100 Inertia:0.90 Weight Sum:  0.0000 Bias Sum:  0.0000 Branches:1\n",
            "Layer  1 Neurons:  64 Weights:  4800 TNNetConvolutionLinear(64,5,4,2,0) Output:50,50,64 Learning Rate:0.0100 Inertia:0.90 Weight Sum:  0.8826 Bias Sum:  0.0000 Parent:0 Branches:1\n",
            "Layer  2 Neurons:   0 Weights:     0 TNNetMaxPool(2,2,0,0,0) Output:25,25,64 Learning Rate:0.0100 Inertia:0.90 Weight Sum:  0.0000 Bias Sum:  0.0000 Parent:1 Branches:1\n",
            "Layer  3 Neurons:   1 Weights:     2 TNNetMovingStdNormalization(0,0,0,0,0) Output:25,25,64 Learning Rate:0.0100 Inertia:0.90 Weight Sum:  1.0000 Bias Sum:  0.0000 Parent:2 Branches:1\n",
            "Layer  4 Neurons:  64 Weights: 36864 TNNetConvolutionReLU(64,3,1,1,0) Output:25,25,64 Learning Rate:0.0100 Inertia:0.90 Weight Sum: -1.1006 Bias Sum:  0.0000 Parent:3 Branches:1\n",
            "Layer  5 Neurons:  64 Weights: 36864 TNNetConvolutionReLU(64,3,1,1,0) Output:25,25,64 Learning Rate:0.0100 Inertia:0.90 Weight Sum: -6.1782 Bias Sum:  0.0000 Parent:4 Branches:1\n",
            "Layer  6 Neurons:   0 Weights:     0 TNNetMaxPool(2,2,0,0,0) Output:13,13,64 Learning Rate:0.0100 Inertia:0.90 Weight Sum:  0.0000 Bias Sum:  0.0000 Parent:5 Branches:1\n",
            "Layer  7 Neurons:  64 Weights: 36864 TNNetConvolutionReLU(64,3,1,1,0) Output:13,13,64 Learning Rate:0.0100 Inertia:0.90 Weight Sum:  0.6385 Bias Sum:  0.0000 Parent:6 Branches:1\n",
            "Layer  8 Neurons:  64 Weights: 36864 TNNetConvolutionReLU(64,3,1,1,0) Output:13,13,64 Learning Rate:0.0100 Inertia:0.90 Weight Sum: -7.9876 Bias Sum:  0.0000 Parent:7 Branches:1\n",
            "Layer  9 Neurons:  64 Weights: 36864 TNNetConvolutionReLU(64,3,1,2,0) Output:7,7,64 Learning Rate:0.0100 Inertia:0.90 Weight Sum:  3.1658 Bias Sum:  0.0000 Parent:8 Branches:1\n",
            "Layer 10 Neurons:   0 Weights:     0 TNNetDropout(2,1,0,0,0) Output:7,7,64 Learning Rate:0.0100 Inertia:0.90 Weight Sum:  0.0000 Bias Sum:  0.0000 Parent:9 Branches:1\n",
            "Layer 11 Neurons:   0 Weights:     0 TNNetMaxPool(2,2,0,0,0) Output:4,4,64 Learning Rate:0.0100 Inertia:0.90 Weight Sum:  0.0000 Bias Sum:  0.0000 Parent:10 Branches:1\n",
            "Layer 12 Neurons:  39 Weights: 39936 TNNetFullConnectLinear(39,1,1,0,0) Output:39,1,1 Learning Rate:0.0100 Inertia:0.90 Weight Sum:  0.2140 Bias Sum:  0.0000 Parent:11 Branches:1\n",
            "Layer 13 Neurons:   0 Weights:     0 TNNetSoftMax(0,0,0,0,0) Output:39,1,1 Learning Rate:0.0100 Inertia:0.90 Weight Sum:  0.0000 Bias Sum:  0.0000 Parent:12 Branches:0\n",
            "Loading 100% of the Plant leave disease dataset into memory.\n",
            "Training Images:49904 Validation Images:2775 Test Images:2775\n",
            "File name is: SimplePlantLeafDisease\n",
            "Learning rate:0.001000 L2 decay:0.000010 Inertia:0.900000 Batch size:64 Step size:64 Staircase ephocs:10 Min backprop error:0.20\n",
            "Training images: 49904\n",
            "Validation images: 2775\n",
            "Test images: 2775\n",
            "Computing...\n",
            "640 Examples seen. Accuracy: 0.0175 Error: 1.93886 Loss: 3.54775 Threads: 4 Forward time: 4.94s Backward time: 4.41s Step time: 7.28s\n",
            "1280 Examples seen. Accuracy: 0.0305 Error: 1.89895 Loss: 3.45915 Threads: 4 Forward time: 4.24s Backward time: 4.04s Step time: 7.51s\n",
            "1920 Examples seen. Accuracy: 0.0424 Error: 1.82177 Loss: 3.06223 Threads: 4 Forward time: 4.78s Backward time: 4.41s Step time: 7.66s\n",
            "2560 Examples seen. Accuracy: 0.0562 Error: 1.80944 Loss: 3.07066 Threads: 4 Forward time: 4.22s Backward time: 3.97s Step time: 7.16s\n",
            "3200 Examples seen. Accuracy: 0.0674 Error: 1.77911 Loss: 2.94995 Threads: 4 Forward time: 4.23s Backward time: 3.92s Step time: 7.74s\n",
            "3840 Examples seen. Accuracy: 0.0759 Error: 1.89523 Loss: 3.21194 Threads: 4 Forward time: 4.23s Backward time: 3.99s Step time: 7.09s\n",
            "4480 Examples seen. Accuracy: 0.0911 Error: 1.84356 Loss: 2.92096 Threads: 4 Forward time: 4.29s Backward time: 3.99s Step time: 8.08s\n",
            "5120 Examples seen. Accuracy: 0.1101 Error: 1.52856 Loss: 2.55728 Threads: 4 Forward time: 4.26s Backward time: 3.74s Step time: 7.12s\n",
            "5760 Examples seen. Accuracy: 0.1262 Error: 1.60777 Loss: 2.75767 Threads: 4 Forward time: 4.30s Backward time: 3.83s Step time: 7.90s\n",
            "6400 Examples seen. Accuracy: 0.1442 Error: 1.52103 Loss: 2.34901 Threads: 4 Forward time: 4.61s Backward time: 4.11s Step time: 7.03s\n",
            "7040 Examples seen. Accuracy: 0.1607 Error: 1.55067 Loss: 2.34624 Threads: 4 Forward time: 4.20s Backward time: 3.78s Step time: 7.61s\n",
            "7680 Examples seen. Accuracy: 0.1783 Error: 1.62708 Loss: 2.67945 Threads: 4 Forward time: 5.26s Backward time: 4.57s Step time: 7.36s\n",
            "8320 Examples seen. Accuracy: 0.1947 Error: 1.55733 Loss: 2.34232 Threads: 4 Forward time: 4.27s Backward time: 3.74s Step time: 7.20s\n",
            "8960 Examples seen. Accuracy: 0.2128 Error: 1.52980 Loss: 2.22569 Threads: 4 Forward time: 5.05s Backward time: 4.53s Step time: 7.69s\n",
            "9600 Examples seen. Accuracy: 0.2286 Error: 1.53133 Loss: 2.16799 Threads: 4 Forward time: 4.30s Backward time: 3.94s Step time: 6.93s\n",
            "10240 Examples seen. Accuracy: 0.2365 Error: 1.48934 Loss: 2.34372 Threads: 4 Forward time: 4.20s Backward time: 3.66s Step time: 7.76s\n",
            "10880 Examples seen. Accuracy: 0.2477 Error: 1.60093 Loss: 2.29594 Threads: 4 Forward time: 4.17s Backward time: 3.54s Step time: 6.84s\n",
            "11520 Examples seen. Accuracy: 0.2636 Error: 1.35666 Loss: 1.86014 Threads: 4 Forward time: 4.24s Backward time: 3.71s Step time: 7.45s\n",
            "12160 Examples seen. Accuracy: 0.2771 Error: 1.40298 Loss: 1.80918 Threads: 4 Forward time: 4.18s Backward time: 3.44s Step time: 6.72s\n",
            "12800 Examples seen. Accuracy: 0.2899 Error: 1.47205 Loss: 2.23363 Threads: 4 Forward time: 5.01s Backward time: 4.41s Step time: 7.84s\n",
            "13440 Examples seen. Accuracy: 0.2992 Error: 1.54169 Loss: 2.44985 Threads: 4 Forward time: 4.21s Backward time: 3.60s Step time: 7.23s\n"
          ]
        }
      ],
      "source": [
        "if os.path.isdir('plant'):\n",
        "  print(\"RUNNING: SimplePlantLeafDisease\")\n",
        "  !neural-api/bin/x86_64-linux/bin/SimplePlantLeafDisease"
      ]
    },
    {
      "cell_type": "code",
      "execution_count": null,
      "metadata": {
        "id": "F1X-Ad6blq3r"
      },
      "outputs": [],
      "source": []
    }
  ],
  "metadata": {
    "kernelspec": {
      "display_name": "Python 3",
      "name": "python3"
    },
    "language_info": {
      "codemirror_mode": {
        "name": "ipython",
        "version": 3
      },
      "file_extension": ".py",
      "mimetype": "text/x-python",
      "name": "python",
      "nbconvert_exporter": "python",
      "pygments_lexer": "ipython3",
      "version": "3.6.9"
    },
    "colab": {
      "provenance": [],
      "machine_shape": "hm"
    }
  },
  "nbformat": 4,
  "nbformat_minor": 0
}